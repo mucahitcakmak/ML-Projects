{
  "cells": [
    {
      "cell_type": "markdown",
      "metadata": {
        "id": "W9tOizUCJjZG"
      },
      "source": [
        "## Neden Numpy?\n",
        "Çok hızlı bir yapı sunuyor. Vektörler üzerine işlem yaparken **SIMD** kullanır. **Simd, aynı\n",
        "anda birden fazla elemanı işleyerek işlem süresini ciddi şekilde kısaltır.** Ayrıca, Numpy\n",
        "doğrudan C ve Fortran gibi dillerde yazılmış optimize kütüphaneleri kullandığından, saf\n",
        "Python koduna kıyasla çok daha hızlı sonuçlar elde eder. Bu nedenle, bilimsel hesaplama\n",
        "ve veri işleme gibi alanlarda Numpy kullanımı yaygındır, çünkü büyük veri kümeleri\n",
        "üzerinde yüksek performans sağlar."
      ]
    },
    {
      "cell_type": "markdown",
      "metadata": {
        "id": "TDmNvxp1R6Ct"
      },
      "source": [
        "## Numpy Özellikleri"
      ]
    },
    {
      "cell_type": "code",
      "execution_count": 1,
      "metadata": {
        "id": "RQXhM85nFeX1"
      },
      "outputs": [],
      "source": [
        "import numpy as np"
      ]
    },
    {
      "cell_type": "code",
      "execution_count": 2,
      "metadata": {
        "id": "TQq4NQW_D__2"
      },
      "outputs": [],
      "source": [
        "# 0 Skaler\n",
        "scalar = np.array(90)\n",
        "# 1 Vektör\n",
        "vector = np.array(\n",
        "    [90, 29, 12, 234])\n",
        "# 2 Matris\n",
        "matrix = np.array([\n",
        "    [2, 4, 1],\n",
        "    [2, 1, 5],\n",
        "    [8, 3, 9]])\n",
        "# 3 Tensor\n",
        "tensor = np.array([\n",
        "    [[2, 4, 1], [1, 4, 3]],\n",
        "    [[4, 1, 1], [1, 4, 3]]])"
      ]
    },
    {
      "cell_type": "code",
      "execution_count": 3,
      "metadata": {
        "colab": {
          "base_uri": "https://localhost:8080/"
        },
        "id": "MDL15KsHLaX_",
        "outputId": "7a087ad4-93ff-4e67-92d8-80d48430a00a"
      },
      "outputs": [
        {
          "name": "stdout",
          "output_type": "stream",
          "text": [
            "[1.  2.  3.  4.3 5.  6.  7. ]\n",
            "[[1 2 3]\n",
            " [4 5 6]\n",
            " [7 8 9]]\n"
          ]
        }
      ],
      "source": [
        "vector_list = np.array([1, 2, 3, 4.3, 5, 6, 7], dtype=\"float\")\n",
        "matris_list = np.array([[1, 2, 3], [4, 5, 6], [7, 8, 9]])\n",
        "print(vector_list)\n",
        "print(matris_list)"
      ]
    },
    {
      "cell_type": "code",
      "execution_count": 4,
      "metadata": {
        "colab": {
          "base_uri": "https://localhost:8080/"
        },
        "id": "2j6oE4S-JuvQ",
        "outputId": "b8b12c8c-3b08-4f31-c5d3-b600967fcb45"
      },
      "outputs": [
        {
          "name": "stdout",
          "output_type": "stream",
          "text": [
            "[2. 3.]\n",
            "[1.  2.  3.  4.3]\n",
            "[1. 3. 5. 7.]\n"
          ]
        }
      ],
      "source": [
        "# Indexe göre tablodan verileri dilimleme\n",
        "print(vector_list[1:3])\n",
        "print(vector_list[:4])\n",
        "print(vector_list[::2]) # başlangıç, bitiş ve artış elemanı\n",
        "\n",
        "# Attributelara bakmak için kullanılır\n",
        "# dir(np.array([1, 2, 3]))"
      ]
    },
    {
      "cell_type": "code",
      "execution_count": 5,
      "metadata": {
        "colab": {
          "base_uri": "https://localhost:8080/"
        },
        "id": "ScoKdbXvLDWI",
        "outputId": "c8afe7ad-7815-44cd-d36b-d6b67dfe8086"
      },
      "outputs": [
        {
          "name": "stdout",
          "output_type": "stream",
          "text": [
            "7 9\n",
            "(7,) (3, 3)\n",
            "1 2\n",
            "float64 int64\n"
          ]
        },
        {
          "data": {
            "text/plain": [
              "array([1, 2, 3, 4, 5, 6, 7], dtype=int32)"
            ]
          },
          "execution_count": 5,
          "metadata": {},
          "output_type": "execute_result"
        }
      ],
      "source": [
        "print(vector_list.size, matris_list.size) # Büyüklüğü (eleman sayısı)\n",
        "print(vector_list.shape, matris_list.shape) # Şekli\n",
        "print(vector_list.ndim, matris_list.ndim) # Boyutu\n",
        "print(vector_list.dtype, matris_list.dtype) # Veri tipi\n",
        "vector_list.astype(\"int32\") # Veri tipine değiştirmek"
      ]
    },
    {
      "cell_type": "code",
      "execution_count": 6,
      "metadata": {
        "colab": {
          "base_uri": "https://localhost:8080/"
        },
        "id": "Dm_Va4GbMtwB",
        "outputId": "a605b6aa-db70-47b9-8ed0-d46492f488ae"
      },
      "outputs": [
        {
          "data": {
            "text/plain": [
              "array([[ 2],\n",
              "       [ 6],\n",
              "       [10]])"
            ]
          },
          "execution_count": 6,
          "metadata": {},
          "output_type": "execute_result"
        }
      ],
      "source": [
        "# Matrislerde Slice\n",
        "matris_list = np.array([\n",
        "    [1, 2, 3, 4],\n",
        "    [5, 6, 7, 8],\n",
        "    [9, 10, 11, 12]])\n",
        "matris_list[:,1:2] # [Sütun,Satır]"
      ]
    },
    {
      "cell_type": "code",
      "execution_count": 7,
      "metadata": {
        "colab": {
          "base_uri": "https://localhost:8080/"
        },
        "id": "SkFuc2uDPbjm",
        "outputId": "fb3b3347-16d9-4736-dad9-27133708bfad"
      },
      "outputs": [
        {
          "name": "stdout",
          "output_type": "stream",
          "text": [
            "[[1 3 1]\n",
            " [3 3 3]\n",
            " [2 1 2]]\n",
            "********************\n",
            "[ 0  2  4  6  8 10 12 14 16 18 20 22 24 26 28 30 32 34 36 38 40 42 44 46\n",
            " 48]\n"
          ]
        }
      ],
      "source": [
        "# Rastgele Matris Oluşturma\n",
        "print(np.random.randint(1, 4, (3, 3))) # 0 ile 100 arasında rastgele sayıları (3, 3) shape inde oluştur\n",
        "print(\"*\"*20)\n",
        "# Sıralı Matris Oluşturma\n",
        "print(np.arange(0, 50, 2)) # 0 ile 49 arasındaki sayıları 2şer 2şer ekle"
      ]
    },
    {
      "cell_type": "code",
      "execution_count": 8,
      "metadata": {
        "colab": {
          "base_uri": "https://localhost:8080/"
        },
        "id": "KBYg7csyQwSw",
        "outputId": "a6902ee0-8412-4ea5-eeb4-ff53d634cf44"
      },
      "outputs": [
        {
          "name": "stdout",
          "output_type": "stream",
          "text": [
            "[ 0  1  2  3  4  5  6  7  8  9 10 11]\n",
            "********************\n",
            "[[ 0  1  2  3  4  5]\n",
            " [ 6  7  8  9 10 11]]\n",
            "********************\n",
            "[[ 0  1  2]\n",
            " [ 3  4  5]\n",
            " [ 6  7  8]\n",
            " [ 9 10 11]]\n"
          ]
        }
      ],
      "source": [
        "# Yeniden Boyutlandırma\n",
        "numbers = np.arange(12)\n",
        "print(numbers)\n",
        "print(\"*\"*20)\n",
        "print(numbers.reshape((2, 6)))\n",
        "print(\"*\"*20)\n",
        "print(numbers.reshape((4, 3)))"
      ]
    },
    {
      "cell_type": "code",
      "execution_count": 9,
      "metadata": {
        "id": "EwJs6wt4TTvD"
      },
      "outputs": [],
      "source": [
        "# view ve copy metotlarının kullanımı\n",
        "test = np.random.randint(0, 20, (2, 2))\n",
        "test2 = test.view() # Bu şekilde atama yaparsak, test2'de yapılan değişiklik test değerinide etkiler.\n",
        "test3= test.copy() # test3'te yapılan değişiklik test değerini etkilemez."
      ]
    },
    {
      "cell_type": "code",
      "execution_count": 10,
      "metadata": {
        "colab": {
          "base_uri": "https://localhost:8080/"
        },
        "id": "sgmEn4ujU3Im",
        "outputId": "19790003-a53c-4fe6-81b3-144a13618f5d"
      },
      "outputs": [
        {
          "name": "stdout",
          "output_type": "stream",
          "text": [
            "[[1. 0. 0. 0. 0.]\n",
            " [0. 1. 0. 0. 0.]\n",
            " [0. 0. 1. 0. 0.]\n",
            " [0. 0. 0. 1. 0.]\n",
            " [0. 0. 0. 0. 1.]]\n",
            "********************\n",
            "[[0. 0. 0. 0. 0.]\n",
            " [0. 0. 0. 0. 0.]\n",
            " [1. 0. 0. 0. 0.]\n",
            " [0. 1. 0. 0. 0.]\n",
            " [0. 0. 1. 0. 0.]]\n",
            "********************\n",
            "[[1 0 0 0]\n",
            " [0 2 0 0]\n",
            " [0 0 3 0]\n",
            " [0 0 0 4]]\n"
          ]
        }
      ],
      "source": [
        "# Köşegen Metotları | identity, eye, diag\n",
        "print(np.identity(5)) # 5x5 lik matris oluşturur ve köşegenlerine 1 yerleştirir\n",
        "print(\"*\"*20)\n",
        "print(np.eye(5, k=-2)) # 5x5 lik matris oluşturur ve köşegeni -2 kaydırır\n",
        "print(\"*\"*20)\n",
        "# Eğer içerisine matris verilirse onun köşegenini döndürür.\n",
        "print(np.diag([1, 2, 3, 4])) # 4x4 lük matris oluşturur ve verilen değerleri köşegenlere yerleştirir."
      ]
    },
    {
      "cell_type": "code",
      "execution_count": 11,
      "metadata": {
        "colab": {
          "base_uri": "https://localhost:8080/"
        },
        "id": "XDntYPn3WwbL",
        "outputId": "eb91a807-239e-477a-d0e4-b06720cfb565"
      },
      "outputs": [
        {
          "name": "stdout",
          "output_type": "stream",
          "text": [
            "[[False  True  True False  True]\n",
            " [ True False  True False False]\n",
            " [ True  True  True  True  True]\n",
            " [ True  True  True  True False]\n",
            " [False False False False False]]\n",
            "********************\n",
            "[62]\n"
          ]
        }
      ],
      "source": [
        "# Matrislerde Filtreleme ve Mantıksal Operatörler\n",
        "test4 = np.random.randint(1, 101, (5, 5))\n",
        "print(test4>50) # True False şeklinde matrisi döndürür\n",
        "print(\"*\"*20)\n",
        "greater = test4 > 50\n",
        "smaller = test4 < 70\n",
        "print(test4[greater & smaller])"
      ]
    },
    {
      "cell_type": "markdown",
      "metadata": {
        "id": "Cs8x-_zoCsQT"
      },
      "source": [
        "## Pandas"
      ]
    },
    {
      "cell_type": "code",
      "execution_count": 12,
      "metadata": {
        "id": "xX_0C9qxCxqM"
      },
      "outputs": [],
      "source": [
        "import pandas as pd"
      ]
    },
    {
      "cell_type": "code",
      "execution_count": 13,
      "metadata": {
        "colab": {
          "base_uri": "https://localhost:8080/",
          "height": 279
        },
        "id": "G8IIKsciC0Qk",
        "outputId": "eaa95d17-2fd6-4c51-f860-848ec444efdd"
      },
      "outputs": [
        {
          "data": {
            "text/html": [
              "<div>\n",
              "<style scoped>\n",
              "    .dataframe tbody tr th:only-of-type {\n",
              "        vertical-align: middle;\n",
              "    }\n",
              "\n",
              "    .dataframe tbody tr th {\n",
              "        vertical-align: top;\n",
              "    }\n",
              "\n",
              "    .dataframe thead th {\n",
              "        text-align: right;\n",
              "    }\n",
              "</style>\n",
              "<table border=\"1\" class=\"dataframe\">\n",
              "  <thead>\n",
              "    <tr style=\"text-align: right;\">\n",
              "      <th></th>\n",
              "      <th>InvoiceNo</th>\n",
              "      <th>StockCode</th>\n",
              "      <th>Description</th>\n",
              "      <th>Quantity</th>\n",
              "      <th>InvoiceDate</th>\n",
              "      <th>UnitPrice</th>\n",
              "      <th>CustomerID</th>\n",
              "      <th>Country</th>\n",
              "    </tr>\n",
              "  </thead>\n",
              "  <tbody>\n",
              "    <tr>\n",
              "      <th>0</th>\n",
              "      <td>536365</td>\n",
              "      <td>85123A</td>\n",
              "      <td>WHITE HANGING HEART T-LIGHT HOLDER</td>\n",
              "      <td>6</td>\n",
              "      <td>12/1/2010 8:26</td>\n",
              "      <td>2.55</td>\n",
              "      <td>17850.0</td>\n",
              "      <td>United Kingdom</td>\n",
              "    </tr>\n",
              "    <tr>\n",
              "      <th>1</th>\n",
              "      <td>536365</td>\n",
              "      <td>71053</td>\n",
              "      <td>WHITE METAL LANTERN</td>\n",
              "      <td>6</td>\n",
              "      <td>12/1/2010 8:26</td>\n",
              "      <td>3.39</td>\n",
              "      <td>17850.0</td>\n",
              "      <td>United Kingdom</td>\n",
              "    </tr>\n",
              "    <tr>\n",
              "      <th>2</th>\n",
              "      <td>536365</td>\n",
              "      <td>84406B</td>\n",
              "      <td>CREAM CUPID HEARTS COAT HANGER</td>\n",
              "      <td>8</td>\n",
              "      <td>12/1/2010 8:26</td>\n",
              "      <td>2.75</td>\n",
              "      <td>17850.0</td>\n",
              "      <td>United Kingdom</td>\n",
              "    </tr>\n",
              "    <tr>\n",
              "      <th>3</th>\n",
              "      <td>536365</td>\n",
              "      <td>84029G</td>\n",
              "      <td>KNITTED UNION FLAG HOT WATER BOTTLE</td>\n",
              "      <td>6</td>\n",
              "      <td>12/1/2010 8:26</td>\n",
              "      <td>3.39</td>\n",
              "      <td>17850.0</td>\n",
              "      <td>United Kingdom</td>\n",
              "    </tr>\n",
              "  </tbody>\n",
              "</table>\n",
              "</div>"
            ],
            "text/plain": [
              "  InvoiceNo StockCode                          Description  Quantity  \\\n",
              "0    536365    85123A   WHITE HANGING HEART T-LIGHT HOLDER         6   \n",
              "1    536365     71053                  WHITE METAL LANTERN         6   \n",
              "2    536365    84406B       CREAM CUPID HEARTS COAT HANGER         8   \n",
              "3    536365    84029G  KNITTED UNION FLAG HOT WATER BOTTLE         6   \n",
              "\n",
              "      InvoiceDate  UnitPrice  CustomerID         Country  \n",
              "0  12/1/2010 8:26       2.55     17850.0  United Kingdom  \n",
              "1  12/1/2010 8:26       3.39     17850.0  United Kingdom  \n",
              "2  12/1/2010 8:26       2.75     17850.0  United Kingdom  \n",
              "3  12/1/2010 8:26       3.39     17850.0  United Kingdom  "
            ]
          },
          "execution_count": 13,
          "metadata": {},
          "output_type": "execute_result"
        }
      ],
      "source": [
        "edata = pd.read_csv(\"data/e-commerce_data.csv\", encoding='unicode_escape')\n",
        "edata.head(4)"
      ]
    },
    {
      "cell_type": "code",
      "execution_count": 14,
      "metadata": {
        "colab": {
          "base_uri": "https://localhost:8080/"
        },
        "id": "Ov869N9uHlk3",
        "outputId": "354e5e0d-6e5a-4a5b-86c0-27e55e608987"
      },
      "outputs": [
        {
          "name": "stdout",
          "output_type": "stream",
          "text": [
            "<class 'pandas.core.frame.DataFrame'>\n",
            "RangeIndex: 541909 entries, 0 to 541908\n",
            "Data columns (total 8 columns):\n",
            " #   Column       Non-Null Count   Dtype  \n",
            "---  ------       --------------   -----  \n",
            " 0   InvoiceNo    541909 non-null  object \n",
            " 1   StockCode    541909 non-null  object \n",
            " 2   Description  540455 non-null  object \n",
            " 3   Quantity     541909 non-null  int64  \n",
            " 4   InvoiceDate  541909 non-null  object \n",
            " 5   UnitPrice    541909 non-null  float64\n",
            " 6   CustomerID   406829 non-null  float64\n",
            " 7   Country      541909 non-null  object \n",
            "dtypes: float64(2), int64(1), object(5)\n",
            "memory usage: 33.1+ MB\n",
            "********************\n"
          ]
        },
        {
          "data": {
            "text/plain": [
              "array(['United Kingdom', 'France', 'Australia', 'Netherlands', 'Germany',\n",
              "       'Norway', 'EIRE', 'Switzerland', 'Spain', 'Poland', 'Portugal',\n",
              "       'Italy', 'Belgium', 'Lithuania', 'Japan', 'Iceland',\n",
              "       'Channel Islands', 'Denmark', 'Cyprus', 'Sweden', 'Austria',\n",
              "       'Israel', 'Finland', 'Bahrain', 'Greece', 'Hong Kong', 'Singapore',\n",
              "       'Lebanon', 'United Arab Emirates', 'Saudi Arabia',\n",
              "       'Czech Republic', 'Canada', 'Unspecified', 'Brazil', 'USA',\n",
              "       'European Community', 'Malta', 'RSA'], dtype=object)"
            ]
          },
          "execution_count": 14,
          "metadata": {},
          "output_type": "execute_result"
        }
      ],
      "source": [
        "edata.info()\n",
        "print(\"*\"*20)\n",
        "edata[\"Country\"].unique()\n",
        "# edata.set_index(\"InvoiceNo\") # İndexi InvoiceNo olarak ayarla"
      ]
    },
    {
      "cell_type": "code",
      "execution_count": 15,
      "metadata": {
        "colab": {
          "base_uri": "https://localhost:8080/"
        },
        "id": "vA0rJNiRNfu8",
        "outputId": "17723625-82b4-4c2b-9df5-0844920e003c"
      },
      "outputs": [
        {
          "name": "stdout",
          "output_type": "stream",
          "text": [
            "          Country        Date  TotalSales\n",
            "0       Australia  2010-12-01      358.25\n",
            "1       Australia  2010-12-08      258.90\n",
            "2       Australia  2010-12-14      -27.75\n",
            "3       Australia  2010-12-17      415.70\n",
            "4       Australia  2011-01-06     7154.38\n",
            "...           ...         ...         ...\n",
            "1711  Unspecified  2011-07-28      546.43\n",
            "1712  Unspecified  2011-08-22      531.03\n",
            "1713  Unspecified  2011-09-02      286.85\n",
            "1714  Unspecified  2011-11-16      333.20\n",
            "1715  Unspecified  2011-11-24      632.55\n",
            "\n",
            "[1716 rows x 3 columns]\n"
          ]
        }
      ],
      "source": [
        "c_country = edata[\"Country\"]\n",
        "c_total_sales = edata[\"Quantity\"] * edata[\"UnitPrice\"]\n",
        "\n",
        "edata[\"InvoiceDate\"] = pd.to_datetime(edata[\"InvoiceDate\"])\n",
        "c_date = edata[\"InvoiceDate\"].dt.date\n",
        "\n",
        "ungroup_sales = pd.DataFrame({\n",
        "    \"Country\": c_country,\n",
        "    \"Date\": c_date,\n",
        "    \"TotalSales\": c_total_sales\n",
        "})\n",
        "grouped_sales_edata = ungroup_sales.groupby([\"Country\", \"Date\"])[\"TotalSales\"].sum().reset_index()\n",
        "print(grouped_sales_edata)"
      ]
    },
    {
      "cell_type": "code",
      "execution_count": 18,
      "metadata": {
        "colab": {
          "base_uri": "https://localhost:8080/",
          "height": 506
        },
        "id": "WXmWfSLVUynu",
        "outputId": "124a4571-fe5c-41f7-affb-b1af42bcbe45"
      },
      "outputs": [
        {
          "data": {
            "image/png": "[encoded data removed]",
            "text/plain": [
              "<Figure size 1000x500 with 1 Axes>"
            ]
          },
          "metadata": {},
          "output_type": "display_data"
        }
      ],
      "source": [
        "import matplotlib.pyplot as plt\n",
        "pivot_sales = grouped_sales_edata.pivot(index=\"Date\", columns=\"Country\", values=\"TotalSales\")\n",
        "\n",
        "uk_sales = pivot_sales[\"United Kingdom\"]\n",
        "\n",
        "uk_sales.plot(figsize=(10, 5))\n",
        "\n",
        "plt.title(\"Günlük Satış Karı - United Kingdom\")\n",
        "plt.ylabel(\"Toplam Satış Karı\")\n",
        "plt.xlabel(\"Tarih\")\n",
        "\n",
        "plt.show()"
      ]
    },
    {
      "cell_type": "code",
      "execution_count": 17,
      "metadata": {},
      "outputs": [
        {
          "name": "stdout",
          "output_type": "stream",
          "text": [
            "Country     Australia  Austria  Bahrain  Belgium  Brazil  Canada  \\\n",
            "Date                                                               \n",
            "2010-12-03        NaN      NaN      NaN   346.10     NaN     NaN   \n",
            "2010-12-17      415.7   277.20      NaN   625.16     NaN     NaN   \n",
            "2011-06-09        NaN      NaN      NaN   130.08     NaN     NaN   \n",
            "2011-08-23        NaN      NaN      NaN      NaN     NaN     NaN   \n",
            "2011-09-19        NaN      NaN      NaN   392.40     NaN     NaN   \n",
            "2011-09-22        NaN      NaN      NaN   705.81     NaN     NaN   \n",
            "2011-10-14        NaN      NaN      NaN   450.86     NaN     NaN   \n",
            "2011-11-14        NaN   742.93      NaN      NaN     NaN     NaN   \n",
            "2011-11-17        NaN      NaN      NaN  1492.31     NaN     NaN   \n",
            "2011-11-18        NaN      NaN      NaN  1040.39     NaN     NaN   \n",
            "2011-11-23        NaN      NaN      NaN      NaN     NaN     NaN   \n",
            "2011-11-30        NaN      NaN      NaN      NaN     NaN     NaN   \n",
            "2011-12-05        NaN      NaN      NaN      NaN     NaN     NaN   \n",
            "\n",
            "Country     Channel Islands  Cyprus  Czech Republic  Denmark  ...  RSA  \\\n",
            "Date                                                          ...        \n",
            "2010-12-03              NaN     NaN             NaN      NaN  ...  NaN   \n",
            "2010-12-17              NaN     NaN             NaN      NaN  ...  NaN   \n",
            "2011-06-09              NaN     NaN             NaN  1621.25  ...  NaN   \n",
            "2011-08-23          2705.22     NaN             NaN      NaN  ...  NaN   \n",
            "2011-09-19          1062.10  196.35             NaN      NaN  ...  NaN   \n",
            "2011-09-22              NaN     NaN             NaN      NaN  ...  NaN   \n",
            "2011-10-14           862.32     NaN             NaN      NaN  ...  NaN   \n",
            "2011-11-14              NaN     NaN             NaN      NaN  ...  NaN   \n",
            "2011-11-17           211.63     NaN             NaN  1794.05  ...  NaN   \n",
            "2011-11-18              NaN  460.89          -61.51      NaN  ...  NaN   \n",
            "2011-11-23              NaN     NaN             NaN      NaN  ...  NaN   \n",
            "2011-11-30           -19.60     NaN             NaN   905.52  ...  NaN   \n",
            "2011-12-05           198.40     NaN             NaN   168.90  ...  NaN   \n",
            "\n",
            "Country     Saudi Arabia  Singapore    Spain   Sweden  Switzerland     USA  \\\n",
            "Date                                                                         \n",
            "2010-12-03           NaN        NaN   620.00      NaN       303.40     NaN   \n",
            "2010-12-17           NaN        NaN   168.00  2646.30          NaN     NaN   \n",
            "2011-06-09           NaN        NaN   912.66   319.95          NaN     NaN   \n",
            "2011-08-23           NaN        NaN      NaN      NaN       -27.15     NaN   \n",
            "2011-09-19           NaN        NaN   971.65      NaN          NaN     NaN   \n",
            "2011-09-22           NaN        NaN      NaN      NaN      4860.64     NaN   \n",
            "2011-10-14           NaN     999.26  3528.34    15.00          NaN     NaN   \n",
            "2011-11-14           NaN        NaN      NaN  1238.48          NaN     NaN   \n",
            "2011-11-17           NaN        NaN  1184.06      NaN          NaN     NaN   \n",
            "2011-11-18           NaN        NaN      NaN    -8.67       925.64     NaN   \n",
            "2011-11-23           NaN        NaN  2990.00      NaN       428.57     NaN   \n",
            "2011-11-30           NaN        NaN      NaN      NaN          NaN     NaN   \n",
            "2011-12-05           NaN        NaN      NaN     0.00          NaN  615.28   \n",
            "\n",
            "Country     United Arab Emirates  United Kingdom  Unspecified  \n",
            "Date                                                           \n",
            "2010-12-03                   NaN        39985.44          NaN  \n",
            "2010-12-17                   NaN        32491.11          NaN  \n",
            "2011-06-09                   NaN        39547.33          NaN  \n",
            "2011-08-23                   NaN        17694.17          NaN  \n",
            "2011-09-19                   NaN        18754.43          NaN  \n",
            "2011-09-22                  37.5        45921.16          NaN  \n",
            "2011-10-14                   NaN        25942.87          NaN  \n",
            "2011-11-14                   NaN       106778.73          NaN  \n",
            "2011-11-17                   NaN        41183.43          NaN  \n",
            "2011-11-18                   NaN        40370.21          NaN  \n",
            "2011-11-23                   NaN        63137.70          NaN  \n",
            "2011-11-30                   NaN        49849.38          NaN  \n",
            "2011-12-05                   NaN        54715.25          NaN  \n",
            "\n",
            "[13 rows x 38 columns]\n"
          ]
        }
      ],
      "source": [
        "temize_cektim = pivot_sales.dropna(thresh=10)\n",
        "print(temize_cektim)"
      ]
    }
  ],
  "metadata": {
    "colab": {
      "provenance": []
    },
    "kernelspec": {
      "display_name": "Python 3",
      "name": "python3"
    },
    "language_info": {
      "codemirror_mode": {
        "name": "ipython",
        "version": 3
      },
      "file_extension": ".py",
      "mimetype": "text/x-python",
      "name": "python",
      "nbconvert_exporter": "python",
      "pygments_lexer": "ipython3",
      "version": "3.12.3"
    }
  },
  "nbformat": 4,
  "nbformat_minor": 0
}
